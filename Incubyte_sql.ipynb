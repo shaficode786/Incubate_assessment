{
  "nbformat": 4,
  "nbformat_minor": 0,
  "metadata": {
    "colab": {
      "provenance": [],
      "authorship_tag": "ABX9TyMQQ/nReToiHoGW0xiXOhvk",
      "include_colab_link": true
    },
    "kernelspec": {
      "name": "python3",
      "display_name": "Python 3"
    },
    "language_info": {
      "name": "python"
    }
  },
  "cells": [
    {
      "cell_type": "markdown",
      "metadata": {
        "id": "view-in-github",
        "colab_type": "text"
      },
      "source": [
        "<a href=\"https://colab.research.google.com/github/shaficode786/Incubate_assessment/blob/solution/Incubyte_sql.ipynb\" target=\"_parent\"><img src=\"https://colab.research.google.com/assets/colab-badge.svg\" alt=\"Open In Colab\"/></a>"
      ]
    },
    {
      "cell_type": "markdown",
      "source": [
        "This Notebook contains my solution(Shafi) for the Data Engineering assessment provided by Incubyte. The assessment involves designing a dynamic ETL process that extracts, validates, and loads customer data into country-specific tables based on the provided specifications:\n",
        "\n",
        "\n",
        "\n",
        "*  All customers related to India will go to Table_India and so on.\n",
        "\n",
        "\n",
        "*  If the customer is shifted to another country and visits from that country then consider the record with the latest consultant date.\n",
        "\n"
      ],
      "metadata": {
        "id": "smjxbIlmuVhY"
      }
    },
    {
      "cell_type": "markdown",
      "source": [
        "# 1. Create table queries"
      ],
      "metadata": {
        "id": "HBAlfDcPviYx"
      }
    },
    {
      "cell_type": "markdown",
      "source": [
        "To ANswer this, We need to create tables dynamically, i.e., one table for each country. The number of tables will be based on the result of the query: (select count(distinct country) from Staging_Customers)"
      ],
      "metadata": {
        "id": "VM0TUU0HxUTy"
      }
    },
    {
      "cell_type": "code",
      "source": [
        "-- They are two steps involved in this finding unique countries and creating tables based dynamically based on the results as shown below:\n",
        "\n",
        "--Step 1: Extract unique countries from the staging table\n",
        "SELECT DISTINCT Country\n",
        "INTO #TempCountries\n",
        "FROM Staging_Customers;\n",
        "\n",
        "-- Step 2: Loop through each country and create dynamic table queries\n",
        "DECLARE @country VARCHAR(10), @sql NVARCHAR(MAX);\n",
        "\n",
        "DECLARE country_cursor CURSOR FOR\n",
        "SELECT Country FROM #TempCountries;\n",
        "\n",
        "OPEN country_cursor;\n",
        "FETCH NEXT FROM country_cursor INTO @country;\n",
        "\n",
        "WHILE @@FETCH_STATUS = 0\n",
        "BEGIN\n",
        "    SET @sql = 'CREATE TABLE Table_' + @country + ' (\n",
        "                    Customer_Name VARCHAR(255),\n",
        "                    Customer_Id VARCHAR(18),\n",
        "                    Open_Date DATE,\n",
        "                    Last_Consulted_Date DATE,\n",
        "                    Vaccination_Id CHAR(5),\n",
        "                    Dr_Name CHAR(255),\n",
        "                    State CHAR(5),\n",
        "                    Country CHAR(5),\n",
        "                    DOB DATE,\n",
        "                    Is_Active CHAR(1)\n",
        "                );';\n",
        "    EXEC sp_executesql @sql;\n",
        "    FETCH NEXT FROM country_cursor INTO @country;\n",
        "END;\n",
        "\n",
        "CLOSE country_cursor;\n",
        "DEALLOCATE country_cursor;\n",
        "DROP TABLE #TempCountries;\n"
      ],
      "metadata": {
        "id": "laqgXh6CvPQ5"
      },
      "execution_count": null,
      "outputs": []
    },
    {
      "cell_type": "markdown",
      "source": [
        "Sample output if executed:  \n",
        "CREATE TABLE Table_USA (\n",
        "                    Customer_Name VARCHAR(255),\n",
        "                    Customer_Id VARCHAR(18),\n",
        "                    Open_Date DATE,\n",
        "                    Last_Consulted_Date DATE,\n",
        "                    Vaccination_Id CHAR(5),\n",
        "                    Dr_Name CHAR(255),\n",
        "                    State CHAR(5),\n",
        "                    Country CHAR(5),\n",
        "                    DOB DATE,\n",
        "                    Is_Active CHAR(1)\n",
        "                );"
      ],
      "metadata": {
        "id": "KT19_UjIycdk"
      }
    },
    {
      "cell_type": "markdown",
      "source": [
        "# Based on condition \"If the customer is shifted to another country and visits from that country then consider the record with the latest consultant date.\" following records are populated as shown below"
      ],
      "metadata": {
        "id": "PgUr2jZKEpcI"
      }
    },
    {
      "cell_type": "code",
      "source": [
        "\n",
        "DECLARE @insertSQL NVARCHAR(MAX);\n",
        "\n",
        "DECLARE country_cursor CURSOR FOR\n",
        "SELECT Country FROM #TempCountries;\n",
        "\n",
        "OPEN country_cursor;\n",
        "FETCH NEXT FROM country_cursor INTO @country;\n",
        "\n",
        "WHILE @@FETCH_STATUS = 0\n",
        "BEGIN\n",
        "    SET @insertSQL = 'INSERT INTO Table_' + @country + ' (Customer_Name, Customer_Id, Open_Date,\n",
        "                     Last_Consulted_Date, Vaccination_Id, Dr_Name, State, Country, DOB, Is_Active)\n",
        "                     WITH LatestVisits AS (\n",
        "    SELECT *,\n",
        "           ROW_NUMBER() OVER (PARTITION BY Customer_Id ORDER BY Last_Consulted_Date DESC) AS rn\n",
        "    FROM Staging_Customers\n",
        ")\n",
        "                     SELECT Customer_Name, Customer_Id, Open_Date, Last_Consulted_Date,\n",
        "                            Vaccination_Id, Dr_Name, State, Country, DOB, Is_Active\n",
        "                     FROM LatestVisits\n",
        "                     WHERE rn = 1 AND Country = ''' + @country + ''';';\n",
        "    EXEC sp_executesql @insertSQL;\n",
        "    FETCH NEXT FROM country_cursor INTO @country;\n",
        "END;\n",
        "\n",
        "CLOSE country_cursor;\n",
        "DEALLOCATE country_cursor;\n"
      ],
      "metadata": {
        "id": "OmPfKku935bV"
      },
      "execution_count": null,
      "outputs": []
    },
    {
      "cell_type": "markdown",
      "source": [
        "# 2. Create the above tables with additional derived columns: age and days since last consulted >30"
      ],
      "metadata": {
        "id": "7kj-DYzCy5DJ"
      }
    },
    {
      "cell_type": "markdown",
      "source": [
        "To answer this, we need to perform two tasks dynamically:\n",
        "\n",
        "\n",
        "1. Add the columns age and days_since_last_consulted.\n",
        "\n",
        "2. Update the derived values in these columns after adding them dynamically."
      ],
      "metadata": {
        "id": "9SyLC-qS10_2"
      }
    },
    {
      "cell_type": "code",
      "source": [
        "-- Step 1: Add the columns age and days_since_last_consulted\n",
        "DECLARE @country VARCHAR(10);\n",
        "DECLARE @sql NVARCHAR(MAX);\n",
        "\n",
        "DECLARE country_cursor CURSOR FOR\n",
        "SELECT DISTINCT Country FROM Staging_Customers;\n",
        "\n",
        "OPEN country_cursor;\n",
        "FETCH NEXT FROM country_cursor INTO @country;\n",
        "\n",
        "WHILE @@FETCH_STATUS = 0\n",
        "BEGIN\n",
        "    SET @sql = 'ALTER TABLE Table_' + @country + '\n",
        "                ADD Age INT,\n",
        "                    Days_Since_Last_Consult INT;';\n",
        "    EXEC sp_executesql @sql;\n",
        "\n",
        "    FETCH NEXT FROM country_cursor INTO @country;\n",
        "END;\n",
        "\n",
        "CLOSE country_cursor;\n",
        "DEALLOCATE country_cursor;\n"
      ],
      "metadata": {
        "id": "EublzDrSy3UK"
      },
      "execution_count": null,
      "outputs": []
    },
    {
      "cell_type": "code",
      "source": [
        "-- Step 2: Update the derived values in these columns after adding them dynamically\n",
        "DECLARE @updateSQL NVARCHAR(MAX);\n",
        "\n",
        "DECLARE country_cursor CURSOR FOR\n",
        "SELECT DISTINCT Country FROM Staging_Customers;\n",
        "\n",
        "OPEN country_cursor;\n",
        "FETCH NEXT FROM country_cursor INTO @country;\n",
        "\n",
        "WHILE @@FETCH_STATUS = 0\n",
        "BEGIN\n",
        "    -- Generate dynamic UPDATE statement to populate derived columns\n",
        "    SET @updateSQL = 'UPDATE Table_' + @country + '\n",
        "                      SET Age = DATEDIFF(YEAR, DOB, GETDATE()),\n",
        "                          Days_Since_Last_Consult = DATEDIFF(DAY, Last_Consulted_Date, GETDATE())\n",
        "                      WHERE Last_Consulted_Date IS NOT NULL;';\n",
        "\n",
        "    -- Execute the dynamic SQL\n",
        "    EXEC sp_executesql @updateSQL;\n",
        "\n",
        "    FETCH NEXT FROM country_cursor INTO @country;\n",
        "END;\n",
        "\n",
        "CLOSE country_cursor;\n",
        "DEALLOCATE country_cursor;\n"
      ],
      "metadata": {
        "id": "YapCXjqW3W8_"
      },
      "execution_count": null,
      "outputs": []
    },
    {
      "cell_type": "markdown",
      "source": [
        "# 3. Create necessary validations."
      ],
      "metadata": {
        "id": "MR7iEqe67H06"
      }
    },
    {
      "cell_type": "markdown",
      "source": [
        "The validation checks we need to perform for this task are:\n",
        "\n",
        "\n",
        "\n",
        "---\n",
        "\n",
        "\n",
        "\n",
        "1)Mandatory fields: Customer_Name, Customer_Id, and Open_Date cannot be NULL.\n",
        "\n",
        "2)Date fields: Validated for correct format using TRY_CAST.\n",
        "\n",
        "3)Customer_Id: Must be alphanumeric.\n",
        "\n",
        "4)Is_Active: Can only contain 'A' or 'I'.\n",
        "\n",
        "5)check for duplicate records in the tables"
      ],
      "metadata": {
        "id": "fRuTGQs-7O5-"
      }
    },
    {
      "cell_type": "code",
      "source": [
        "-- 1)Mandatory fields validation\n",
        "SELECT *\n",
        "FROM Staging_Customers\n",
        "WHERE Customer_Name IS NULL\n",
        "   OR Customer_Id IS NULL\n",
        "   OR Open_Date IS NULL;\n"
      ],
      "metadata": {
        "id": "gc7zinpt3jJb"
      },
      "execution_count": null,
      "outputs": []
    },
    {
      "cell_type": "code",
      "source": [
        "-- 2)date fields format validation using try_cast\n",
        "SELECT *\n",
        "FROM Staging_Customers\n",
        "WHERE TRY_CAST(Open_Date AS DATE) IS NULL\n",
        "   OR (Last_Consulted_Date IS NOT NULL AND TRY_CAST(Last_Consulted_Date AS DATE) IS NULL)\n",
        "   OR TRY_CAST(DOB AS DATE) IS NULL;\n"
      ],
      "metadata": {
        "id": "9U-Tm-MXAtBX"
      },
      "execution_count": null,
      "outputs": []
    },
    {
      "cell_type": "code",
      "source": [
        "--3)Customer_Id: Must be alphanumeric.\n",
        "SELECT *\n",
        "FROM Staging_Customers\n",
        "WHERE Customer_Id LIKE '%[^a-zA-Z0-9]%';\n"
      ],
      "metadata": {
        "id": "x1WR6GeoB9F2"
      },
      "execution_count": null,
      "outputs": []
    },
    {
      "cell_type": "code",
      "source": [
        "--4)Is_Active: Can only contain 'A' or 'I'.\n",
        "SELECT *\n",
        "FROM Staging_Customers\n",
        "WHERE Is_Active NOT IN ('A', 'I');\n"
      ],
      "metadata": {
        "id": "JTFFOtRtCMlc"
      },
      "execution_count": null,
      "outputs": []
    },
    {
      "cell_type": "code",
      "source": [
        "--5) check for duplicate records in the tables\n",
        "SELECT Customer_Id, COUNT(*) AS DuplicateCount\n",
        "FROM table_usa\n",
        "GROUP BY Customer_Id\n",
        "HAVING COUNT(*) > 1;"
      ],
      "metadata": {
        "id": "pGr2DTY3CXwn"
      },
      "execution_count": null,
      "outputs": []
    }
  ]
}